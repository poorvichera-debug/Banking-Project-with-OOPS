{
 "cells": [
  {
   "cell_type": "code",
   "execution_count": 1,
   "id": "fccb19a8-9ccd-46f1-8f9d-1924b9f0ed84",
   "metadata": {},
   "outputs": [],
   "source": [
    "class BankAccount:\n",
    "    def __init__(self,acc_no,holder_name,balance=0):\n",
    "        self.acc_no = acc_no\n",
    "        self.holder_name = holder_name\n",
    "        self.__balance = balance\n",
    "    def deposit(self,amount):\n",
    "        if amount > 0:\n",
    "            self.__balance += amount\n",
    "            print(f\"Deposited {amount}. New Balance = {self.__balance}\")\n",
    "        else:\n",
    "            print(\"Invalid deposit amount\")\n",
    "    def withdraw(self,amount):\n",
    "        if 0 < amount <= self.__balance:\n",
    "            self.__balance -= amount\n",
    "            print(f\"Withdrawn {amount}. New Balance = {self.__balance}\")\n",
    "        else:\n",
    "            print(\"Insufficient balance or invalid amount\")\n",
    "    def get_balance(self):\n",
    "        return self.__balance\n",
    "    def get_account_number(self):\n",
    "        return self.acc_no"
   ]
  },
  {
   "cell_type": "code",
   "execution_count": 2,
   "id": "4d26eeb7-38a4-4d02-8714-fe24db18509e",
   "metadata": {},
   "outputs": [],
   "source": [
    "class SavingsAccount(BankAccount):\n",
    "    def __init__(self,acc_no,holder_name,balance=0,interest_rate=0.05):\n",
    "        super().__init__(acc_no, holder_name, balance)\n",
    "        self.interest_rate = interest_rate\n",
    "\n",
    "\n",
    "    def add_interest(self):\n",
    "        interest = self.get_balance() * self.interest_rate\n",
    "        self.deposit(interest)\n",
    "        print(f\"Interest {interest} added.\")\n",
    "       \n",
    "\n",
    "\n",
    "class CurrentAccount(BankAccount):\n",
    "    def __init__(self,acc_no,holder_name,balance=0,overdraft_limit=5000):\n",
    "        super().__init__(acc_no, holder_name, balance)\n",
    "        self.overdraft_limit = overdraft_limit\n",
    "\n",
    "\n",
    "    def withdraw(self,amount):\n",
    "        if amount <= self.get_balance() + self.overdraft_limit:\n",
    "            self.deposit(-amount)\n",
    "            print(f\"Withdrawn {amount} using overdraft facility.\")\n",
    "        else:\n",
    "            print(\"Overdraft limit exceeded.\")\n"
   ]
  },
  {
   "cell_type": "markdown",
   "id": "72dde475-e583-4335-92d4-84a1cf5c3068",
   "metadata": {},
   "source": [
    "#### Q1. Create a SavingsAccount object for Ravi and deposit 2000. What is his new balance?\n",
    "Hint: Use the deposit() method and then check balance using get_balance().\n"
   ]
  },
  {
   "cell_type": "code",
   "execution_count": 3,
   "id": "a757e60f-9a9c-4ee9-af0e-16c9a4e4f28e",
   "metadata": {},
   "outputs": [
    {
     "name": "stdout",
     "output_type": "stream",
     "text": [
      "Deposited 2000. New Balance = 2000\n",
      "2000\n"
     ]
    }
   ],
   "source": [
    "ravi = SavingsAccount(acc_no = 101, holder_name = \"Ravi\")\n",
    "ravi.deposit(2000)\n",
    "print(ravi.get_balance())"
   ]
  },
  {
   "cell_type": "markdown",
   "id": "a3076d3b-441b-4b89-9e2a-83c238cbe582",
   "metadata": {},
   "source": [
    "#### Q2. Try to withdraw 10000 from Sneha’s SavingsAccount which only has 5000. What happens?\n",
    "Hint: Savings accounts do not allow overdrafts. Look at how withdraw() is implemented in BankAccount.\n"
   ]
  },
  {
   "cell_type": "code",
   "execution_count": 4,
   "id": "826c2b98-e95c-48a5-97b8-621e28c9e1ce",
   "metadata": {},
   "outputs": [
    {
     "name": "stdout",
     "output_type": "stream",
     "text": [
      "Insufficient balance or invalid amount\n"
     ]
    }
   ],
   "source": [
    "sneha = SavingsAccount(acc_no = 102, holder_name = \"Sneha\", balance = 5000)\n",
    "sneha.withdraw(10000)"
   ]
  },
  {
   "cell_type": "markdown",
   "id": "66d7be11-7ad6-40bd-9862-0304962b69b9",
   "metadata": {},
   "source": [
    "#### Q3. Add interest to Arjun’s SavingsAccount with balance 10000. What will be his new balance?\n",
    "Hint: Use the add_interest() method. Interest rate is 5% of the current balance.\n"
   ]
  },
  {
   "cell_type": "code",
   "execution_count": 6,
   "id": "f17b97d9-d614-48e4-a802-9c474377ba1b",
   "metadata": {},
   "outputs": [
    {
     "name": "stdout",
     "output_type": "stream",
     "text": [
      "Deposited 500.0. New Balance = 10500.0\n",
      "Interest 500.0 added.\n"
     ]
    }
   ],
   "source": [
    "arjun = SavingsAccount(acc_no = 103, holder_name = \"Arjun\", balance = 10000)\n",
    "arjun.add_interest()"
   ]
  },
  {
   "cell_type": "markdown",
   "id": "1a140c62-e9ec-4403-b546-c53d7c9d1eab",
   "metadata": {},
   "source": [
    "#### Q4. Create a CurrentAccount for Priya with 2000 and withdraw 6000. Is it allowed? Why?\n",
    "Hint: Current accounts allow overdrafts up to -5000. Check how withdraw() in CurrentAccount is different.\n"
   ]
  },
  {
   "cell_type": "code",
   "execution_count": 15,
   "id": "95d3c7cb-b610-4b05-b973-4d4b84cfb1db",
   "metadata": {},
   "outputs": [
    {
     "name": "stdout",
     "output_type": "stream",
     "text": [
      "Invalid deposit amount\n",
      "Withdrawn 6000 using overdraft facility.\n",
      "2000\n"
     ]
    }
   ],
   "source": [
    "priya = CurrentAccount(acc_no = 104, holder_name = \"Priya\", balance = 2000)\n",
    "priya.withdraw(6000)\n",
    "print(priya.get_balance())"
   ]
  },
  {
   "cell_type": "markdown",
   "id": "62b5e1b0-3328-45e1-8993-ac9caf4a1473",
   "metadata": {},
   "source": [
    "#### Q5. Try to directly access __balance of Meera’s account outside the class. What error do you get?\n",
    "Hint: Remember that variables with __ (double underscores) are private and use name mangling.\n"
   ]
  },
  {
   "cell_type": "code",
   "execution_count": 16,
   "id": "4c2358a3-604f-4277-91f6-fd3525740038",
   "metadata": {},
   "outputs": [
    {
     "ename": "AttributeError",
     "evalue": "'BankAccount' object has no attribute '__balance'",
     "output_type": "error",
     "traceback": [
      "\u001b[1;31m---------------------------------------------------------------------------\u001b[0m",
      "\u001b[1;31mAttributeError\u001b[0m                            Traceback (most recent call last)",
      "Cell \u001b[1;32mIn[16], line 2\u001b[0m\n\u001b[0;32m      1\u001b[0m meera \u001b[38;5;241m=\u001b[39m BankAccount(acc_no \u001b[38;5;241m=\u001b[39m \u001b[38;5;241m105\u001b[39m, holder_name \u001b[38;5;241m=\u001b[39m \u001b[38;5;124m\"\u001b[39m\u001b[38;5;124mMeera\u001b[39m\u001b[38;5;124m\"\u001b[39m, balance \u001b[38;5;241m=\u001b[39m \u001b[38;5;241m3000\u001b[39m)\n\u001b[1;32m----> 2\u001b[0m \u001b[38;5;28mprint\u001b[39m(meera\u001b[38;5;241m.\u001b[39m__balance)\n",
      "\u001b[1;31mAttributeError\u001b[0m: 'BankAccount' object has no attribute '__balance'"
     ]
    }
   ],
   "source": [
    "meera = BankAccount(acc_no = 105, holder_name = \"Meera\", balance = 3000)\n",
    "print(meera.__balance)"
   ]
  },
  {
   "cell_type": "markdown",
   "id": "94d2ce69-06c4-4258-80ba-948913c26282",
   "metadata": {},
   "source": [
    "#### Q6. Which OOPS concept is shown when withdraw() behaves differently for SavingsAccount (Ravi) and CurrentAccount (Priya)?\n",
    "Hint: Same method name, different behavior → This is a classic OOPS principle.\n"
   ]
  },
  {
   "cell_type": "raw",
   "id": "9623d6ec-2bab-4eb9-b99d-4a39868efa60",
   "metadata": {},
   "source": [
    "Polymorphism"
   ]
  }
 ],
 "metadata": {
  "kernelspec": {
   "display_name": "Python 3 (ipykernel)",
   "language": "python",
   "name": "python3"
  },
  "language_info": {
   "codemirror_mode": {
    "name": "ipython",
    "version": 3
   },
   "file_extension": ".py",
   "mimetype": "text/x-python",
   "name": "python",
   "nbconvert_exporter": "python",
   "pygments_lexer": "ipython3",
   "version": "3.13.5"
  }
 },
 "nbformat": 4,
 "nbformat_minor": 5
}
